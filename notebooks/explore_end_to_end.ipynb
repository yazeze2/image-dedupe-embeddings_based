{
 "cells": [
  {
   "cell_type": "code",
   "execution_count": 1,
   "id": "e6eafea8",
   "metadata": {},
   "outputs": [],
   "source": [
    "from pathlib import Path\n",
    "from typing import List, Dict\n",
    "import yaml\n",
    "import pandas as pd\n",
    "from PIL import Image\n",
    "import os\n",
    "import numpy as np\n",
    "import matplotlib.pyplot as plt\n",
    "\n",
    "from transformers import CLIPProcessor, CLIPModel\n",
    "from PIL import Image\n",
    "import torch\n",
    "from tqdm import tqdm\n",
    "\n",
    "from collections import defaultdict\n",
    "import shutil"
   ]
  },
  {
   "cell_type": "code",
   "execution_count": 2,
   "id": "8ea37229",
   "metadata": {},
   "outputs": [],
   "source": [
    "SUPPORTED_FORMATS = [\".jpg\", \".jpeg\", \".png\", \".bmp\", \".tiff\", \".gif\", \".webp\"]"
   ]
  },
  {
   "cell_type": "code",
   "execution_count": 4,
   "id": "26ab2e71",
   "metadata": {},
   "outputs": [],
   "source": [
    "# Load the gallery path from config.yaml\n",
    "with open(\"../config.yaml\", \"r\") as f:\n",
    "    config = yaml.safe_load(f)\n",
    "\n",
    "BASE_DIR = Path(config[\"gallery_path\"])"
   ]
  },
  {
   "cell_type": "code",
   "execution_count": 23,
   "id": "e95c4bff",
   "metadata": {},
   "outputs": [],
   "source": [
    "year = 2025\n",
    "month = 4\n",
    "\n",
    "TARGET_DIR = BASE_DIR / str(year) / f\"{month:02d}\""
   ]
  },
  {
   "cell_type": "code",
   "execution_count": 24,
   "id": "fea0ae80",
   "metadata": {},
   "outputs": [],
   "source": [
    "def scan_images_metadata(root_dir: str) -> List[Dict]:\n",
    "    image_files = []\n",
    "    root = Path(root_dir)\n",
    "\n",
    "    for filepath in root.rglob(\"*\"):\n",
    "        if filepath.suffix.lower() in SUPPORTED_FORMATS:\n",
    "            try:\n",
    "                stat = filepath.stat()\n",
    "                image_files.append({\n",
    "                    \"path\": str(filepath.resolve()),\n",
    "                    \"name\": filepath.name,\n",
    "                    \"ext\": filepath.suffix.lower(),\n",
    "                    \"size\": stat.st_size,\n",
    "                    \"modified\": stat.st_mtime,\n",
    "                })\n",
    "            except Exception as e:\n",
    "                print(f\"Skipping {filepath}: {e}\")\n",
    "    \n",
    "    return image_files"
   ]
  },
  {
   "cell_type": "code",
   "execution_count": 25,
   "id": "4fc05c13",
   "metadata": {},
   "outputs": [
    {
     "name": "stdout",
     "output_type": "stream",
     "text": [
      "Found 22 images\n"
     ]
    }
   ],
   "source": [
    "metadata = scan_images_metadata(TARGET_DIR)\n",
    "print(f\"Found {len(metadata)} images\")"
   ]
  },
  {
   "cell_type": "code",
   "execution_count": 26,
   "id": "e9088dde",
   "metadata": {},
   "outputs": [],
   "source": [
    "def load_and_preprocess_images(file_list, size=(224, 224)):\n",
    "    images = []\n",
    "    valid_paths = []\n",
    "\n",
    "    for record in file_list:\n",
    "        path = record[\"path\"]\n",
    "        try:\n",
    "            img = Image.open(path).convert(\"RGB\")\n",
    "            img = img.resize(size)\n",
    "            images.append(img)\n",
    "            valid_paths.append(path)\n",
    "        except Exception as e:\n",
    "            print(f\"Failed to load {path}: {e}\")\n",
    "    \n",
    "    return images, valid_paths"
   ]
  },
  {
   "cell_type": "code",
   "execution_count": 27,
   "id": "4c55731e",
   "metadata": {},
   "outputs": [
    {
     "name": "stdout",
     "output_type": "stream",
     "text": [
      "Successfully loaded 22 image(s)\n"
     ]
    }
   ],
   "source": [
    "images, valid_paths = load_and_preprocess_images(metadata)\n",
    "print(f\"Successfully loaded {len(images)} image(s)\")"
   ]
  },
  {
   "cell_type": "code",
   "execution_count": null,
   "id": "8f71cc04",
   "metadata": {},
   "outputs": [],
   "source": []
  },
  {
   "cell_type": "code",
   "execution_count": 28,
   "id": "b6fb3e06",
   "metadata": {},
   "outputs": [
    {
     "name": "stderr",
     "output_type": "stream",
     "text": [
      "Error during conversion: ChunkedEncodingError(ProtocolError('Response ended prematurely'))\n"
     ]
    }
   ],
   "source": [
    "device = \"cuda\"\n",
    "\n",
    "model = CLIPModel.from_pretrained(\"openai/clip-vit-base-patch32\").to(device)\n",
    "processor = CLIPProcessor.from_pretrained(\"openai/clip-vit-base-patch32\")"
   ]
  },
  {
   "cell_type": "code",
   "execution_count": 29,
   "id": "c4905204",
   "metadata": {},
   "outputs": [],
   "source": [
    "def generate_clip_embeddings(images, model, processor, device):\n",
    "    inputs = processor(images=images, return_tensors=\"pt\", padding=True).to(device)\n",
    "\n",
    "    with torch.no_grad():\n",
    "        embeddings = model.get_image_features(**inputs)\n",
    "\n",
    "    # Normalize embeddings (L2)\n",
    "    embeddings = torch.nn.functional.normalize(embeddings, p=2, dim=1)\n",
    "    return embeddings.cpu()"
   ]
  },
  {
   "cell_type": "code",
   "execution_count": 30,
   "id": "72ccf3dc",
   "metadata": {},
   "outputs": [
    {
     "name": "stdout",
     "output_type": "stream",
     "text": [
      "Embeddings shape: torch.Size([22, 512])\n"
     ]
    }
   ],
   "source": [
    "embeddings = generate_clip_embeddings(images, model, processor, device)\n",
    "print(f\"Embeddings shape: {embeddings.shape}\")"
   ]
  },
  {
   "cell_type": "code",
   "execution_count": 31,
   "id": "2ab3a2a7",
   "metadata": {},
   "outputs": [],
   "source": [
    "def compute_similarity_matrix(embeddings: torch.Tensor) -> np.ndarray:\n",
    "    return (embeddings @ embeddings.T).cpu().numpy()"
   ]
  },
  {
   "cell_type": "code",
   "execution_count": 32,
   "id": "32c772ac",
   "metadata": {},
   "outputs": [],
   "source": [
    "def group_duplicates(sim_matrix: np.ndarray, paths: list, threshold):\n",
    "    parent = {}\n",
    "\n",
    "    def find(x):\n",
    "        if parent.get(x, x) != x:\n",
    "            parent[x] = find(parent[x])\n",
    "        return parent.get(x, x)\n",
    "\n",
    "    def union(x, y):\n",
    "        px, py = find(x), find(y)\n",
    "        if px != py:\n",
    "            parent[py] = px\n",
    "\n",
    "    n = len(paths)\n",
    "    for i in range(n):\n",
    "        for j in range(i + 1, n):\n",
    "            if sim_matrix[i, j] >= threshold:\n",
    "                union(paths[i], paths[j])\n",
    "\n",
    "    groups = defaultdict(list)\n",
    "    for path in paths:\n",
    "        root = find(path)\n",
    "        groups[root].append(path)\n",
    "\n",
    "    return [group for group in groups.values() if len(group) > 1]"
   ]
  },
  {
   "cell_type": "code",
   "execution_count": 33,
   "id": "a6c9ed69",
   "metadata": {},
   "outputs": [
    {
     "name": "stdout",
     "output_type": "stream",
     "text": [
      "Found 3 duplicate group(s).\n"
     ]
    }
   ],
   "source": [
    "sim_matrix = compute_similarity_matrix(embeddings)\n",
    "duplicate_groups = group_duplicates(sim_matrix, valid_paths, threshold=0.95)\n",
    "\n",
    "print(f\"Found {len(duplicate_groups)} duplicate group(s).\")"
   ]
  },
  {
   "cell_type": "code",
   "execution_count": 34,
   "id": "69354411",
   "metadata": {},
   "outputs": [],
   "source": [
    "def show_image_group(image_paths, columns=5, figsize=(15, 5)):\n",
    "    n = len(image_paths)\n",
    "    rows = (n + columns - 1) // columns\n",
    "    plt.figure(figsize=figsize)\n",
    "    \n",
    "    for i, path in enumerate(image_paths):\n",
    "        img = Image.open(path)\n",
    "        plt.subplot(rows, columns, i + 1)\n",
    "        plt.imshow(img)\n",
    "        plt.title(os.path.basename(path), fontsize=8)\n",
    "        plt.axis(\"off\")\n",
    "    \n",
    "    plt.tight_layout()\n",
    "    plt.show()"
   ]
  },
  {
   "cell_type": "code",
   "execution_count": 36,
   "id": "de07790f",
   "metadata": {
    "scrolled": true
   },
   "outputs": [],
   "source": [
    "# for g in duplicate_groups:\n",
    "#     show_image_group(g)"
   ]
  },
  {
   "cell_type": "code",
   "execution_count": 38,
   "id": "91142afe",
   "metadata": {},
   "outputs": [],
   "source": [
    "#Create duplicate directory in each year/month combo directory and move duplicates. Keep first copy as is\n",
    "def move_duplicate_images(duplicate_groups, month_dir: Path):\n",
    "    duplicates_dir = month_dir / \"duplicates\"\n",
    "    duplicates_dir.mkdir(exist_ok=True)\n",
    "\n",
    "    for group in duplicate_groups:\n",
    "        if len(group) < 2:\n",
    "            continue\n",
    "\n",
    "        keep = group[0]\n",
    "        to_move = group[1:]\n",
    "\n",
    "        for src_path_str in to_move:\n",
    "            src = Path(src_path_str)\n",
    "            dst = duplicates_dir / src.name\n",
    "\n",
    "            # Avoid name conflicts\n",
    "            i = 1\n",
    "            while dst.exists():\n",
    "                dst = duplicates_dir / f\"{src.stem}_{i}{src.suffix}\"\n",
    "                i += 1\n",
    "\n",
    "            try:\n",
    "                shutil.move(str(src), str(dst))\n",
    "                print(f\"Moved: {src.name} → {dst.name}\")\n",
    "            except Exception as e:\n",
    "                print(f\"Failed to move {src}: {e}\")"
   ]
  },
  {
   "cell_type": "code",
   "execution_count": null,
   "id": "13358352",
   "metadata": {},
   "outputs": [],
   "source": []
  },
  {
   "cell_type": "code",
   "execution_count": 39,
   "id": "f25ee381",
   "metadata": {},
   "outputs": [
    {
     "name": "stdout",
     "output_type": "stream",
     "text": [
      "Moved: 20250401_234055397_iOS.jpg → 20250401_234055397_iOS.jpg\n",
      "Moved: 20250409_135235000_iOS.png → 20250409_135235000_iOS.png\n",
      "Moved: 20250409_135245000_iOS.png → 20250409_135245000_iOS.png\n",
      "Moved: 20250420_211823186_iOS.jpg → 20250420_211823186_iOS.jpg\n"
     ]
    }
   ],
   "source": [
    "move_duplicate_images(duplicate_groups, TARGET_DIR)"
   ]
  },
  {
   "cell_type": "code",
   "execution_count": null,
   "id": "e0d80594",
   "metadata": {},
   "outputs": [],
   "source": []
  },
  {
   "cell_type": "code",
   "execution_count": null,
   "id": "14f2e8a1",
   "metadata": {},
   "outputs": [],
   "source": []
  },
  {
   "cell_type": "code",
   "execution_count": null,
   "id": "245d22c4",
   "metadata": {},
   "outputs": [],
   "source": []
  },
  {
   "cell_type": "code",
   "execution_count": null,
   "id": "8fdb9c26",
   "metadata": {},
   "outputs": [],
   "source": []
  },
  {
   "cell_type": "code",
   "execution_count": null,
   "id": "8438e153",
   "metadata": {},
   "outputs": [],
   "source": []
  },
  {
   "cell_type": "code",
   "execution_count": null,
   "id": "43242efe",
   "metadata": {},
   "outputs": [],
   "source": []
  },
  {
   "cell_type": "code",
   "execution_count": null,
   "id": "e42d2888",
   "metadata": {},
   "outputs": [],
   "source": []
  },
  {
   "cell_type": "code",
   "execution_count": null,
   "id": "7eaf2745",
   "metadata": {},
   "outputs": [],
   "source": []
  },
  {
   "cell_type": "code",
   "execution_count": null,
   "id": "ee7ac773",
   "metadata": {},
   "outputs": [],
   "source": []
  },
  {
   "cell_type": "code",
   "execution_count": null,
   "id": "97fac52c",
   "metadata": {},
   "outputs": [],
   "source": []
  },
  {
   "cell_type": "code",
   "execution_count": null,
   "id": "4ad7e540",
   "metadata": {},
   "outputs": [],
   "source": []
  },
  {
   "cell_type": "code",
   "execution_count": null,
   "id": "9ae28fa9",
   "metadata": {},
   "outputs": [],
   "source": []
  },
  {
   "cell_type": "code",
   "execution_count": null,
   "id": "2add09be",
   "metadata": {},
   "outputs": [],
   "source": []
  }
 ],
 "metadata": {
  "kernelspec": {
   "display_name": "Python 3 (ipykernel)",
   "language": "python",
   "name": "python3"
  },
  "language_info": {
   "codemirror_mode": {
    "name": "ipython",
    "version": 3
   },
   "file_extension": ".py",
   "mimetype": "text/x-python",
   "name": "python",
   "nbconvert_exporter": "python",
   "pygments_lexer": "ipython3",
   "version": "3.8.0"
  }
 },
 "nbformat": 4,
 "nbformat_minor": 5
}
