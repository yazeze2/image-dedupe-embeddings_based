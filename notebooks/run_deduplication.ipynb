{
 "cells": [
  {
   "cell_type": "code",
   "execution_count": 1,
   "id": "22468d0d",
   "metadata": {},
   "outputs": [],
   "source": [
    "import warnings\n",
    "warnings.filterwarnings(\"ignore\")"
   ]
  },
  {
   "cell_type": "code",
   "execution_count": 2,
   "id": "e465961b",
   "metadata": {},
   "outputs": [],
   "source": [
    "import sys\n",
    "import time\n",
    "sys.path.append(\"../src\")"
   ]
  },
  {
   "cell_type": "code",
   "execution_count": 3,
   "id": "23153246",
   "metadata": {},
   "outputs": [],
   "source": [
    "from deduper import run_deduplication_for_months"
   ]
  },
  {
   "cell_type": "markdown",
   "id": "72c6e79f",
   "metadata": {},
   "source": [
    "> - ### 2025 Pics"
   ]
  },
  {
   "cell_type": "code",
   "execution_count": 4,
   "id": "b6cffd20",
   "metadata": {},
   "outputs": [
    {
     "data": {
      "text/plain": [
       "[(2025, 1), (2025, 2), (2025, 3), (2025, 4), (2025, 5), (2025, 6)]"
      ]
     },
     "execution_count": 4,
     "metadata": {},
     "output_type": "execute_result"
    }
   ],
   "source": [
    "year = 2025\n",
    "year_month_pairs = [(year, month) for month in range(1, 7)]\n",
    "year_month_pairs"
   ]
  },
  {
   "cell_type": "code",
   "execution_count": 5,
   "id": "09550620",
   "metadata": {},
   "outputs": [
    {
     "name": "stdout",
     "output_type": "stream",
     "text": [
      "\n",
      "🔍 Processing 2025/01...\n",
      "  -- Summary updated for 2025/01\n",
      "  -- Moved 2 duplicate files from 2 group(s) in 2025/01.\n",
      "\n",
      "🔍 Processing 2025/02...\n",
      "  -- No duplicates found for 2025/02\n",
      "  -- Summary updated for 2025/02 (no duplicates found)\n",
      "\n",
      "🔍 Processing 2025/03...\n",
      "  -- No duplicates found for 2025/03\n",
      "  -- Summary updated for 2025/03 (no duplicates found)\n",
      "\n",
      "🔍 Processing 2025/04...\n",
      "  -- Summary updated for 2025/04\n",
      "  -- Moved 9 duplicate files from 7 group(s) in 2025/04.\n",
      "\n",
      "🔍 Processing 2025/05...\n",
      "  -- No duplicates found for 2025/05\n",
      "  -- Summary updated for 2025/05 (no duplicates found)\n",
      "\n",
      "🔍 Processing 2025/06...\n",
      "  -- Summary updated for 2025/06\n",
      "  -- Moved 1 duplicate files from 1 group(s) in 2025/06.\n"
     ]
    }
   ],
   "source": [
    "start = time.time()\n",
    "run_deduplication_for_months(year_month_pairs)\n",
    "end = time.time()"
   ]
  },
  {
   "cell_type": "code",
   "execution_count": 6,
   "id": "2bf62a58",
   "metadata": {},
   "outputs": [
    {
     "name": "stdout",
     "output_type": "stream",
     "text": [
      "Duration to run all of 2025: 0.34 minutes\n"
     ]
    }
   ],
   "source": [
    "duration = (end-start)/60\n",
    "print(f\"Duration to run all of {year}: {duration:.2f} minutes\")"
   ]
  },
  {
   "cell_type": "code",
   "execution_count": null,
   "id": "f58ca405",
   "metadata": {},
   "outputs": [],
   "source": []
  },
  {
   "cell_type": "markdown",
   "id": "5a03ce85",
   "metadata": {},
   "source": [
    "> - ### 2024 Pics"
   ]
  },
  {
   "cell_type": "code",
   "execution_count": 7,
   "id": "ca3cf2af",
   "metadata": {},
   "outputs": [
    {
     "data": {
      "text/plain": [
       "[(2024, 1),\n",
       " (2024, 2),\n",
       " (2024, 3),\n",
       " (2024, 4),\n",
       " (2024, 5),\n",
       " (2024, 6),\n",
       " (2024, 7),\n",
       " (2024, 8),\n",
       " (2024, 9),\n",
       " (2024, 10),\n",
       " (2024, 11),\n",
       " (2024, 12)]"
      ]
     },
     "execution_count": 7,
     "metadata": {},
     "output_type": "execute_result"
    }
   ],
   "source": [
    "year = 2024\n",
    "year_month_pairs = [(year, month) for month in range(1, 13)]\n",
    "year_month_pairs"
   ]
  },
  {
   "cell_type": "code",
   "execution_count": 8,
   "id": "17fbf42c",
   "metadata": {
    "scrolled": true
   },
   "outputs": [
    {
     "name": "stdout",
     "output_type": "stream",
     "text": [
      "\n",
      "🔍 Processing 2024/01...\n",
      "  -- Summary updated for 2024/01\n",
      "  -- Moved 22 duplicate files from 9 group(s) in 2024/01.\n",
      "\n",
      "🔍 Processing 2024/02...\n",
      "  -- Summary updated for 2024/02\n",
      "  -- Moved 1 duplicate files from 1 group(s) in 2024/02.\n",
      "\n",
      "🔍 Processing 2024/03...\n",
      "  -- Summary updated for 2024/03\n",
      "  -- Moved 28 duplicate files from 17 group(s) in 2024/03.\n",
      "\n",
      "🔍 Processing 2024/04...\n",
      "  -- No duplicates found for 2024/04\n",
      "  -- Summary updated for 2024/04 (no duplicates found)\n",
      "\n",
      "🔍 Processing 2024/05...\n",
      "  -- Summary updated for 2024/05\n",
      "  -- Moved 1 duplicate files from 1 group(s) in 2024/05.\n",
      "\n",
      "🔍 Processing 2024/06...\n",
      "  -- Summary updated for 2024/06\n",
      "  -- Moved 21 duplicate files from 13 group(s) in 2024/06.\n",
      "\n",
      "🔍 Processing 2024/07...\n",
      "  -- No duplicates found for 2024/07\n",
      "  -- Summary updated for 2024/07 (no duplicates found)\n",
      "\n",
      "🔍 Processing 2024/08...\n",
      "  -- Summary updated for 2024/08\n",
      "  -- Moved 1 duplicate files from 1 group(s) in 2024/08.\n",
      "\n",
      "🔍 Processing 2024/09...\n",
      "  -- No duplicates found for 2024/09\n",
      "  -- Summary updated for 2024/09 (no duplicates found)\n",
      "\n",
      "🔍 Processing 2024/10...\n",
      "  -- No duplicates found for 2024/10\n",
      "  -- Summary updated for 2024/10 (no duplicates found)\n",
      "\n",
      "🔍 Processing 2024/11...\n",
      "  -- Summary updated for 2024/11\n",
      "  -- Moved 1 duplicate files from 1 group(s) in 2024/11.\n",
      "\n",
      "🔍 Processing 2024/12...\n",
      "  -- Summary updated for 2024/12\n",
      "  -- Moved 46 duplicate files from 11 group(s) in 2024/12.\n"
     ]
    }
   ],
   "source": [
    "start = time.time()\n",
    "run_deduplication_for_months(year_month_pairs)\n",
    "end = time.time()"
   ]
  },
  {
   "cell_type": "code",
   "execution_count": 9,
   "id": "dc2e8234",
   "metadata": {},
   "outputs": [
    {
     "name": "stdout",
     "output_type": "stream",
     "text": [
      "Duration to run all of 2024: 0.83 minutes\n"
     ]
    }
   ],
   "source": [
    "duration = (end-start)/60\n",
    "print(f\"Duration to run all of {year}: {duration:.2f} minutes\")"
   ]
  },
  {
   "cell_type": "code",
   "execution_count": null,
   "id": "faf07f73",
   "metadata": {},
   "outputs": [],
   "source": []
  }
 ],
 "metadata": {
  "kernelspec": {
   "display_name": "Python 3 (ipykernel)",
   "language": "python",
   "name": "python3"
  },
  "language_info": {
   "codemirror_mode": {
    "name": "ipython",
    "version": 3
   },
   "file_extension": ".py",
   "mimetype": "text/x-python",
   "name": "python",
   "nbconvert_exporter": "python",
   "pygments_lexer": "ipython3",
   "version": "3.8.0"
  }
 },
 "nbformat": 4,
 "nbformat_minor": 5
}
