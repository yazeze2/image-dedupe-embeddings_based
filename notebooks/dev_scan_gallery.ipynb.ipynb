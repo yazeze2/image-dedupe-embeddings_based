{
 "cells": [
  {
   "cell_type": "code",
   "execution_count": 26,
   "id": "9f0c4863",
   "metadata": {},
   "outputs": [],
   "source": [
    "from pathlib import Path\n",
    "from typing import List, Dict\n",
    "import yaml\n",
    "import pandas as pd\n",
    "from PIL import Image\n",
    "import os\n",
    "import numpy as np\n",
    "import matplotlib.pyplot as plt"
   ]
  },
  {
   "cell_type": "code",
   "execution_count": 2,
   "id": "c36a7d0e",
   "metadata": {},
   "outputs": [],
   "source": [
    "SUPPORTED_FORMATS = [\".jpg\", \".jpeg\", \".png\", \".bmp\", \".tiff\", \".gif\", \".webp\"]"
   ]
  },
  {
   "cell_type": "code",
   "execution_count": 3,
   "id": "3fe33834",
   "metadata": {},
   "outputs": [],
   "source": [
    "def scan_images_metadata(root_dir: str) -> List[Dict]:\n",
    "    image_files = []\n",
    "    root = Path(root_dir)\n",
    "\n",
    "    for filepath in root.rglob(\"*\"):\n",
    "        if filepath.suffix.lower() in SUPPORTED_FORMATS:\n",
    "            try:\n",
    "                stat = filepath.stat()\n",
    "                image_files.append({\n",
    "                    \"path\": str(filepath.resolve()),\n",
    "                    \"name\": filepath.name,\n",
    "                    \"ext\": filepath.suffix.lower(),\n",
    "                    \"size\": stat.st_size,\n",
    "                    \"modified\": stat.st_mtime,\n",
    "                })\n",
    "            except Exception as e:\n",
    "                print(f\"Skipping {filepath}: {e}\")\n",
    "    \n",
    "    return image_files"
   ]
  },
  {
   "cell_type": "code",
   "execution_count": 9,
   "id": "c7a84b00",
   "metadata": {},
   "outputs": [],
   "source": [
    "# Load the gallery path from config.yaml\n",
    "with open(\"../config.yaml\", \"r\") as f:\n",
    "    config = yaml.safe_load(f)\n",
    "\n",
    "SOURCE_DIR = Path(config[\"gallery_path\"])"
   ]
  },
  {
   "cell_type": "code",
   "execution_count": 11,
   "id": "0a3b9c9f",
   "metadata": {},
   "outputs": [
    {
     "name": "stdout",
     "output_type": "stream",
     "text": [
      "Found 1826 images\n"
     ]
    }
   ],
   "source": [
    "photos = scan_images_metadata(SOURCE_DIR)\n",
    "print(f\"Found {len(photos)} images\")"
   ]
  },
  {
   "cell_type": "code",
   "execution_count": 12,
   "id": "1ad86c81",
   "metadata": {},
   "outputs": [
    {
     "data": {
      "text/html": [
       "<div>\n",
       "<style scoped>\n",
       "    .dataframe tbody tr th:only-of-type {\n",
       "        vertical-align: middle;\n",
       "    }\n",
       "\n",
       "    .dataframe tbody tr th {\n",
       "        vertical-align: top;\n",
       "    }\n",
       "\n",
       "    .dataframe thead th {\n",
       "        text-align: right;\n",
       "    }\n",
       "</style>\n",
       "<table border=\"1\" class=\"dataframe\">\n",
       "  <thead>\n",
       "    <tr style=\"text-align: right;\">\n",
       "      <th></th>\n",
       "      <th>path</th>\n",
       "      <th>name</th>\n",
       "      <th>ext</th>\n",
       "      <th>size</th>\n",
       "      <th>modified</th>\n",
       "    </tr>\n",
       "  </thead>\n",
       "  <tbody>\n",
       "    <tr>\n",
       "      <th>0</th>\n",
       "      <td>C:\\Users\\ynany\\OneDrive\\Desktop\\Pictures and V...</td>\n",
       "      <td>20180518_050125000_iOS.jpg</td>\n",
       "      <td>.jpg</td>\n",
       "      <td>179880</td>\n",
       "      <td>1.526620e+09</td>\n",
       "    </tr>\n",
       "    <tr>\n",
       "      <th>1</th>\n",
       "      <td>C:\\Users\\ynany\\OneDrive\\Desktop\\Pictures and V...</td>\n",
       "      <td>20180518_050225000_iOS.jpg</td>\n",
       "      <td>.jpg</td>\n",
       "      <td>229475</td>\n",
       "      <td>1.526620e+09</td>\n",
       "    </tr>\n",
       "    <tr>\n",
       "      <th>2</th>\n",
       "      <td>C:\\Users\\ynany\\OneDrive\\Desktop\\Pictures and V...</td>\n",
       "      <td>20180518_050330000_iOS.jpg</td>\n",
       "      <td>.jpg</td>\n",
       "      <td>253318</td>\n",
       "      <td>1.526620e+09</td>\n",
       "    </tr>\n",
       "    <tr>\n",
       "      <th>3</th>\n",
       "      <td>C:\\Users\\ynany\\OneDrive\\Desktop\\Pictures and V...</td>\n",
       "      <td>20180518_050359000_iOS.jpg</td>\n",
       "      <td>.jpg</td>\n",
       "      <td>128273</td>\n",
       "      <td>1.526620e+09</td>\n",
       "    </tr>\n",
       "    <tr>\n",
       "      <th>4</th>\n",
       "      <td>C:\\Users\\ynany\\OneDrive\\Desktop\\Pictures and V...</td>\n",
       "      <td>20180518_050416000_iOS.jpg</td>\n",
       "      <td>.jpg</td>\n",
       "      <td>214668</td>\n",
       "      <td>1.526620e+09</td>\n",
       "    </tr>\n",
       "  </tbody>\n",
       "</table>\n",
       "</div>"
      ],
      "text/plain": [
       "                                                path  \\\n",
       "0  C:\\Users\\ynany\\OneDrive\\Desktop\\Pictures and V...   \n",
       "1  C:\\Users\\ynany\\OneDrive\\Desktop\\Pictures and V...   \n",
       "2  C:\\Users\\ynany\\OneDrive\\Desktop\\Pictures and V...   \n",
       "3  C:\\Users\\ynany\\OneDrive\\Desktop\\Pictures and V...   \n",
       "4  C:\\Users\\ynany\\OneDrive\\Desktop\\Pictures and V...   \n",
       "\n",
       "                         name   ext    size      modified  \n",
       "0  20180518_050125000_iOS.jpg  .jpg  179880  1.526620e+09  \n",
       "1  20180518_050225000_iOS.jpg  .jpg  229475  1.526620e+09  \n",
       "2  20180518_050330000_iOS.jpg  .jpg  253318  1.526620e+09  \n",
       "3  20180518_050359000_iOS.jpg  .jpg  128273  1.526620e+09  \n",
       "4  20180518_050416000_iOS.jpg  .jpg  214668  1.526620e+09  "
      ]
     },
     "execution_count": 12,
     "metadata": {},
     "output_type": "execute_result"
    }
   ],
   "source": [
    "df = pd.DataFrame(photos)\n",
    "df.to_parquet(\"../data/scanned_images_metadata.parquet\")\n",
    "df.head()"
   ]
  },
  {
   "cell_type": "code",
   "execution_count": 13,
   "id": "fdd34d61",
   "metadata": {},
   "outputs": [
    {
     "name": "stdout",
     "output_type": "stream",
     "text": [
      "Gallery size (on disk): 2.90 GB\n"
     ]
    }
   ],
   "source": [
    "total_size_bytes = df['size'].sum()\n",
    "total_size_gb = total_size_bytes / (1024 ** 3)\n",
    "print(f\"Gallery size (on disk): {total_size_gb:.2f} GB\")"
   ]
  },
  {
   "cell_type": "code",
   "execution_count": null,
   "id": "679f8953",
   "metadata": {},
   "outputs": [],
   "source": []
  },
  {
   "cell_type": "markdown",
   "id": "d3f68292",
   "metadata": {},
   "source": [
    "> - ### Preprocess sample images"
   ]
  },
  {
   "cell_type": "code",
   "execution_count": 18,
   "id": "283931d8",
   "metadata": {},
   "outputs": [],
   "source": [
    "def preprocess_image(path: str, size=(224, 224)) -> np.ndarray:\n",
    "    try:\n",
    "        img = Image.open(path).convert(\"RGB\")\n",
    "        img = img.resize(size)\n",
    "        return np.array(img)\n",
    "    except Exception as e:\n",
    "        print(f\"Failed to preprocess {path}: {e}\")\n",
    "        return None"
   ]
  },
  {
   "cell_type": "code",
   "execution_count": 19,
   "id": "f5368deb",
   "metadata": {},
   "outputs": [],
   "source": [
    "def preprocess_batch(file_list: List[str], size=(224, 224)) -> List[np.ndarray]:\n",
    "    results = []\n",
    "    for path in file_list:\n",
    "        preprocessed = preprocess_image(path, size)\n",
    "        if preprocessed is not None:\n",
    "            results.append(preprocessed)\n",
    "    return results"
   ]
  },
  {
   "cell_type": "code",
   "execution_count": 49,
   "id": "e224ec74",
   "metadata": {},
   "outputs": [],
   "source": [
    "def show_images(images, columns=5, size=(15, 5)):\n",
    "    n_images = len(images)\n",
    "    rows = (n_images + columns - 1) // columns\n",
    "    plt.figure(figsize=size)\n",
    "    \n",
    "    for i, img in enumerate(images):\n",
    "        plt.subplot(rows, columns, i + 1)\n",
    "        plt.imshow(img)\n",
    "        plt.axis(\"off\")\n",
    "    \n",
    "    plt.tight_layout()\n",
    "    plt.show()"
   ]
  },
  {
   "cell_type": "code",
   "execution_count": 20,
   "id": "41cd4d68",
   "metadata": {},
   "outputs": [
    {
     "data": {
      "text/html": [
       "<div>\n",
       "<style scoped>\n",
       "    .dataframe tbody tr th:only-of-type {\n",
       "        vertical-align: middle;\n",
       "    }\n",
       "\n",
       "    .dataframe tbody tr th {\n",
       "        vertical-align: top;\n",
       "    }\n",
       "\n",
       "    .dataframe thead th {\n",
       "        text-align: right;\n",
       "    }\n",
       "</style>\n",
       "<table border=\"1\" class=\"dataframe\">\n",
       "  <thead>\n",
       "    <tr style=\"text-align: right;\">\n",
       "      <th></th>\n",
       "      <th>path</th>\n",
       "      <th>name</th>\n",
       "      <th>ext</th>\n",
       "      <th>size</th>\n",
       "      <th>modified</th>\n",
       "    </tr>\n",
       "  </thead>\n",
       "  <tbody>\n",
       "    <tr>\n",
       "      <th>0</th>\n",
       "      <td>C:\\Users\\ynany\\OneDrive\\Desktop\\Pictures and V...</td>\n",
       "      <td>20180518_050125000_iOS.jpg</td>\n",
       "      <td>.jpg</td>\n",
       "      <td>179880</td>\n",
       "      <td>1.526620e+09</td>\n",
       "    </tr>\n",
       "    <tr>\n",
       "      <th>1</th>\n",
       "      <td>C:\\Users\\ynany\\OneDrive\\Desktop\\Pictures and V...</td>\n",
       "      <td>20180518_050225000_iOS.jpg</td>\n",
       "      <td>.jpg</td>\n",
       "      <td>229475</td>\n",
       "      <td>1.526620e+09</td>\n",
       "    </tr>\n",
       "    <tr>\n",
       "      <th>2</th>\n",
       "      <td>C:\\Users\\ynany\\OneDrive\\Desktop\\Pictures and V...</td>\n",
       "      <td>20180518_050330000_iOS.jpg</td>\n",
       "      <td>.jpg</td>\n",
       "      <td>253318</td>\n",
       "      <td>1.526620e+09</td>\n",
       "    </tr>\n",
       "    <tr>\n",
       "      <th>3</th>\n",
       "      <td>C:\\Users\\ynany\\OneDrive\\Desktop\\Pictures and V...</td>\n",
       "      <td>20180518_050359000_iOS.jpg</td>\n",
       "      <td>.jpg</td>\n",
       "      <td>128273</td>\n",
       "      <td>1.526620e+09</td>\n",
       "    </tr>\n",
       "    <tr>\n",
       "      <th>4</th>\n",
       "      <td>C:\\Users\\ynany\\OneDrive\\Desktop\\Pictures and V...</td>\n",
       "      <td>20180518_050416000_iOS.jpg</td>\n",
       "      <td>.jpg</td>\n",
       "      <td>214668</td>\n",
       "      <td>1.526620e+09</td>\n",
       "    </tr>\n",
       "  </tbody>\n",
       "</table>\n",
       "</div>"
      ],
      "text/plain": [
       "                                                path  \\\n",
       "0  C:\\Users\\ynany\\OneDrive\\Desktop\\Pictures and V...   \n",
       "1  C:\\Users\\ynany\\OneDrive\\Desktop\\Pictures and V...   \n",
       "2  C:\\Users\\ynany\\OneDrive\\Desktop\\Pictures and V...   \n",
       "3  C:\\Users\\ynany\\OneDrive\\Desktop\\Pictures and V...   \n",
       "4  C:\\Users\\ynany\\OneDrive\\Desktop\\Pictures and V...   \n",
       "\n",
       "                         name   ext    size      modified  \n",
       "0  20180518_050125000_iOS.jpg  .jpg  179880  1.526620e+09  \n",
       "1  20180518_050225000_iOS.jpg  .jpg  229475  1.526620e+09  \n",
       "2  20180518_050330000_iOS.jpg  .jpg  253318  1.526620e+09  \n",
       "3  20180518_050359000_iOS.jpg  .jpg  128273  1.526620e+09  \n",
       "4  20180518_050416000_iOS.jpg  .jpg  214668  1.526620e+09  "
      ]
     },
     "execution_count": 20,
     "metadata": {},
     "output_type": "execute_result"
    }
   ],
   "source": [
    "# Load your previously scanned metadata\n",
    "df = pd.read_parquet(\"../data/scanned_images_metadata.parquet\")\n",
    "df = df[df[\"size\"] > 0].copy()\n",
    "df.head()"
   ]
  },
  {
   "cell_type": "code",
   "execution_count": 44,
   "id": "22ba1d4e",
   "metadata": {},
   "outputs": [
    {
     "name": "stdout",
     "output_type": "stream",
     "text": [
      "Successfully preprocessed 100 images\n"
     ]
    }
   ],
   "source": [
    "# Select a small batch to test\n",
    "sample_paths = df[\"path\"].head(100).tolist()\n",
    "\n",
    "images = preprocess_batch(sample_paths)\n",
    "print(f\"Successfully preprocessed {len(images)} images\")"
   ]
  },
  {
   "cell_type": "code",
   "execution_count": 50,
   "id": "396fd8fb",
   "metadata": {
    "scrolled": true
   },
   "outputs": [
    {
     "name": "stderr",
     "output_type": "stream",
     "text": [
      "C:\\Users\\ynany\\AppData\\Local\\Temp\\ipykernel_27328\\2170626843.py:11: UserWarning: Tight layout not applied. tight_layout cannot make axes height small enough to accommodate all axes decorations\n",
      "  plt.tight_layout()\n"
     ]
    },
    {
     "data": {
      "image/png": "[encoded data removed]",
      "text/plain": [
       "<Figure size 1500x500 with 100 Axes>"
      ]
     },
     "metadata": {},
     "output_type": "display_data"
    }
   ],
   "source": [
    "show_images(images, columns=2)"
   ]
  },
  {
   "cell_type": "code",
   "execution_count": null,
   "id": "31d3adbd",
   "metadata": {},
   "outputs": [],
   "source": []
  },
  {
   "cell_type": "markdown",
   "id": "a3408654",
   "metadata": {},
   "source": [
    "> - ### Generate Embeddings with CLIP"
   ]
  },
  {
   "cell_type": "code",
   "execution_count": 31,
   "id": "69b550bd",
   "metadata": {},
   "outputs": [],
   "source": [
    "from transformers import CLIPProcessor, CLIPModel\n",
    "from PIL import Image\n",
    "import torch\n",
    "from tqdm import tqdm"
   ]
  },
  {
   "cell_type": "code",
   "execution_count": 60,
   "id": "da6e78fc",
   "metadata": {},
   "outputs": [],
   "source": [
    "from collections import defaultdict\n",
    "import shutil"
   ]
  },
  {
   "cell_type": "code",
   "execution_count": 33,
   "id": "cde041c2",
   "metadata": {},
   "outputs": [
    {
     "data": {
      "application/vnd.jupyter.widget-view+json": {
       "model_id": "80e3f3ededc9446c8fc458549d8eb790",
       "version_major": 2,
       "version_minor": 0
      },
      "text/plain": [
       "config.json:   0%|          | 0.00/4.19k [00:00<?, ?B/s]"
      ]
     },
     "metadata": {},
     "output_type": "display_data"
    },
    {
     "name": "stderr",
     "output_type": "stream",
     "text": [
      "c:\\users\\ynany\\appdata\\local\\programs\\python\\python38\\lib\\site-packages\\huggingface_hub\\file_download.py:140: UserWarning: `huggingface_hub` cache-system uses symlinks by default to efficiently store duplicated files but your machine does not support them in C:\\Users\\ynany\\.cache\\huggingface\\hub\\models--openai--clip-vit-base-patch32. Caching files will still work but in a degraded version that might require more space on your disk. This warning can be disabled by setting the `HF_HUB_DISABLE_SYMLINKS_WARNING` environment variable. For more details, see https://huggingface.co/docs/huggingface_hub/how-to-cache#limitations.\n",
      "To support symlinks on Windows, you either need to activate Developer Mode or to run Python as an administrator. In order to activate developer mode, see this article: https://docs.microsoft.com/en-us/windows/apps/get-started/enable-your-device-for-development\n",
      "  warnings.warn(message)\n"
     ]
    },
    {
     "data": {
      "application/vnd.jupyter.widget-view+json": {
       "model_id": "b4b12ae5acc24769bb47f7c13744171d",
       "version_major": 2,
       "version_minor": 0
      },
      "text/plain": [
       "pytorch_model.bin:   0%|          | 0.00/605M [00:00<?, ?B/s]"
      ]
     },
     "metadata": {},
     "output_type": "display_data"
    },
    {
     "data": {
      "application/vnd.jupyter.widget-view+json": {
       "model_id": "233d34ae080548c085af1b41a3cda84d",
       "version_major": 2,
       "version_minor": 0
      },
      "text/plain": [
       "model.safetensors:   0%|          | 0.00/605M [00:00<?, ?B/s]"
      ]
     },
     "metadata": {},
     "output_type": "display_data"
    },
    {
     "data": {
      "application/vnd.jupyter.widget-view+json": {
       "model_id": "7e96c8907e974740b473763f9e293b0c",
       "version_major": 2,
       "version_minor": 0
      },
      "text/plain": [
       "preprocessor_config.json:   0%|          | 0.00/316 [00:00<?, ?B/s]"
      ]
     },
     "metadata": {},
     "output_type": "display_data"
    },
    {
     "data": {
      "application/vnd.jupyter.widget-view+json": {
       "model_id": "d0c974a09c5440a3b977c21230f750c5",
       "version_major": 2,
       "version_minor": 0
      },
      "text/plain": [
       "tokenizer_config.json:   0%|          | 0.00/592 [00:00<?, ?B/s]"
      ]
     },
     "metadata": {},
     "output_type": "display_data"
    },
    {
     "data": {
      "application/vnd.jupyter.widget-view+json": {
       "model_id": "a2d9a35d35d24d04b8b2ad43f0cbf92f",
       "version_major": 2,
       "version_minor": 0
      },
      "text/plain": [
       "vocab.json:   0%|          | 0.00/862k [00:00<?, ?B/s]"
      ]
     },
     "metadata": {},
     "output_type": "display_data"
    },
    {
     "data": {
      "application/vnd.jupyter.widget-view+json": {
       "model_id": "4c5160667a1e48d4877ecfbe904bffe5",
       "version_major": 2,
       "version_minor": 0
      },
      "text/plain": [
       "merges.txt:   0%|          | 0.00/525k [00:00<?, ?B/s]"
      ]
     },
     "metadata": {},
     "output_type": "display_data"
    },
    {
     "data": {
      "application/vnd.jupyter.widget-view+json": {
       "model_id": "41caabfd43ce4128a3a79262803b402a",
       "version_major": 2,
       "version_minor": 0
      },
      "text/plain": [
       "tokenizer.json:   0%|          | 0.00/2.22M [00:00<?, ?B/s]"
      ]
     },
     "metadata": {},
     "output_type": "display_data"
    },
    {
     "data": {
      "application/vnd.jupyter.widget-view+json": {
       "model_id": "7b958bacf40c4bcdb3917c9e3734f506",
       "version_major": 2,
       "version_minor": 0
      },
      "text/plain": [
       "special_tokens_map.json:   0%|          | 0.00/389 [00:00<?, ?B/s]"
      ]
     },
     "metadata": {},
     "output_type": "display_data"
    }
   ],
   "source": [
    "# Load pre-trained CLIP model & processor\n",
    "device = \"cuda\" if torch.cuda.is_available() else \"cpu\"\n",
    "model = CLIPModel.from_pretrained(\"openai/clip-vit-base-patch32\").to(device)\n",
    "processor = CLIPProcessor.from_pretrained(\"openai/clip-vit-base-patch32\")"
   ]
  },
  {
   "cell_type": "code",
   "execution_count": 34,
   "id": "13e2ac2a",
   "metadata": {},
   "outputs": [],
   "source": [
    "def get_image_embeddings(images: list) -> torch.Tensor:\n",
    "    # Convert list of numpy arrays to list of PIL Images\n",
    "    pil_images = [Image.fromarray(img) for img in images]\n",
    "    \n",
    "    # Preprocess and tokenize\n",
    "    inputs = processor(images=pil_images, return_tensors=\"pt\", padding=True).to(device)\n",
    "    \n",
    "    # Get image embeddings\n",
    "    with torch.no_grad():\n",
    "        outputs = model.get_image_features(**inputs)\n",
    "    \n",
    "    return outputs.cpu()"
   ]
  },
  {
   "cell_type": "code",
   "execution_count": 51,
   "id": "0684434f",
   "metadata": {},
   "outputs": [
    {
     "name": "stdout",
     "output_type": "stream",
     "text": [
      "Embedding shape: torch.Size([100, 512])\n"
     ]
    }
   ],
   "source": [
    "embeddings = get_image_embeddings(images)\n",
    "print(f\"Embedding shape: {embeddings.shape}\")"
   ]
  },
  {
   "cell_type": "code",
   "execution_count": 52,
   "id": "0bbbaa16",
   "metadata": {},
   "outputs": [],
   "source": [
    "def compute_similarity_matrix(embeddings: torch.Tensor) -> np.ndarray:\n",
    "    embeddings = torch.nn.functional.normalize(embeddings, p=2, dim=1)\n",
    "    sim_matrix = embeddings @ embeddings.T\n",
    "    return sim_matrix.cpu().numpy()"
   ]
  },
  {
   "cell_type": "code",
   "execution_count": 90,
   "id": "90f71463",
   "metadata": {},
   "outputs": [],
   "source": [
    "def find_duplicate_pairs(sim_matrix: np.ndarray, paths: list, threshold) -> pd.DataFrame:\n",
    "    n = sim_matrix.shape[0]\n",
    "    pairs = []\n",
    "\n",
    "    for i in range(n):\n",
    "        for j in range(i + 1, n):\n",
    "            sim_score = sim_matrix[i, j]\n",
    "            if sim_score >= threshold:\n",
    "                pairs.append({\n",
    "                    \"img1\": paths[i],\n",
    "                    \"img2\": paths[j],\n",
    "                    \"similarity\": sim_score\n",
    "                })\n",
    "\n",
    "    return pd.DataFrame(pairs)"
   ]
  },
  {
   "cell_type": "code",
   "execution_count": 93,
   "id": "c020d01a",
   "metadata": {},
   "outputs": [
    {
     "name": "stdout",
     "output_type": "stream",
     "text": [
      "(11, 3)\n"
     ]
    }
   ],
   "source": [
    "sim_matrix = compute_similarity_matrix(embeddings)\n",
    "duplicate_df = find_duplicate_pairs(sim_matrix, sample_paths, threshold=0.98)\n",
    "print(duplicate_df.shape)"
   ]
  },
  {
   "cell_type": "code",
   "execution_count": 94,
   "id": "b206ff2f",
   "metadata": {},
   "outputs": [
    {
     "data": {
      "text/html": [
       "<div>\n",
       "<style scoped>\n",
       "    .dataframe tbody tr th:only-of-type {\n",
       "        vertical-align: middle;\n",
       "    }\n",
       "\n",
       "    .dataframe tbody tr th {\n",
       "        vertical-align: top;\n",
       "    }\n",
       "\n",
       "    .dataframe thead th {\n",
       "        text-align: right;\n",
       "    }\n",
       "</style>\n",
       "<table border=\"1\" class=\"dataframe\">\n",
       "  <thead>\n",
       "    <tr style=\"text-align: right;\">\n",
       "      <th></th>\n",
       "      <th>img1</th>\n",
       "      <th>img2</th>\n",
       "      <th>similarity</th>\n",
       "    </tr>\n",
       "  </thead>\n",
       "  <tbody>\n",
       "    <tr>\n",
       "      <th>0</th>\n",
       "      <td>C:\\Users\\ynany\\OneDrive\\Desktop\\Pictures and V...</td>\n",
       "      <td>C:\\Users\\ynany\\OneDrive\\Desktop\\Pictures and V...</td>\n",
       "      <td>0.984280</td>\n",
       "    </tr>\n",
       "    <tr>\n",
       "      <th>1</th>\n",
       "      <td>C:\\Users\\ynany\\OneDrive\\Desktop\\Pictures and V...</td>\n",
       "      <td>C:\\Users\\ynany\\OneDrive\\Desktop\\Pictures and V...</td>\n",
       "      <td>0.986520</td>\n",
       "    </tr>\n",
       "    <tr>\n",
       "      <th>2</th>\n",
       "      <td>C:\\Users\\ynany\\OneDrive\\Desktop\\Pictures and V...</td>\n",
       "      <td>C:\\Users\\ynany\\OneDrive\\Desktop\\Pictures and V...</td>\n",
       "      <td>0.984405</td>\n",
       "    </tr>\n",
       "    <tr>\n",
       "      <th>3</th>\n",
       "      <td>C:\\Users\\ynany\\OneDrive\\Desktop\\Pictures and V...</td>\n",
       "      <td>C:\\Users\\ynany\\OneDrive\\Desktop\\Pictures and V...</td>\n",
       "      <td>0.987386</td>\n",
       "    </tr>\n",
       "    <tr>\n",
       "      <th>4</th>\n",
       "      <td>C:\\Users\\ynany\\OneDrive\\Desktop\\Pictures and V...</td>\n",
       "      <td>C:\\Users\\ynany\\OneDrive\\Desktop\\Pictures and V...</td>\n",
       "      <td>0.995920</td>\n",
       "    </tr>\n",
       "    <tr>\n",
       "      <th>5</th>\n",
       "      <td>C:\\Users\\ynany\\OneDrive\\Desktop\\Pictures and V...</td>\n",
       "      <td>C:\\Users\\ynany\\OneDrive\\Desktop\\Pictures and V...</td>\n",
       "      <td>0.981924</td>\n",
       "    </tr>\n",
       "    <tr>\n",
       "      <th>6</th>\n",
       "      <td>C:\\Users\\ynany\\OneDrive\\Desktop\\Pictures and V...</td>\n",
       "      <td>C:\\Users\\ynany\\OneDrive\\Desktop\\Pictures and V...</td>\n",
       "      <td>0.991665</td>\n",
       "    </tr>\n",
       "    <tr>\n",
       "      <th>7</th>\n",
       "      <td>C:\\Users\\ynany\\OneDrive\\Desktop\\Pictures and V...</td>\n",
       "      <td>C:\\Users\\ynany\\OneDrive\\Desktop\\Pictures and V...</td>\n",
       "      <td>0.984932</td>\n",
       "    </tr>\n",
       "    <tr>\n",
       "      <th>8</th>\n",
       "      <td>C:\\Users\\ynany\\OneDrive\\Desktop\\Pictures and V...</td>\n",
       "      <td>C:\\Users\\ynany\\OneDrive\\Desktop\\Pictures and V...</td>\n",
       "      <td>0.984574</td>\n",
       "    </tr>\n",
       "    <tr>\n",
       "      <th>9</th>\n",
       "      <td>C:\\Users\\ynany\\OneDrive\\Desktop\\Pictures and V...</td>\n",
       "      <td>C:\\Users\\ynany\\OneDrive\\Desktop\\Pictures and V...</td>\n",
       "      <td>0.982485</td>\n",
       "    </tr>\n",
       "    <tr>\n",
       "      <th>10</th>\n",
       "      <td>C:\\Users\\ynany\\OneDrive\\Desktop\\Pictures and V...</td>\n",
       "      <td>C:\\Users\\ynany\\OneDrive\\Desktop\\Pictures and V...</td>\n",
       "      <td>0.982399</td>\n",
       "    </tr>\n",
       "  </tbody>\n",
       "</table>\n",
       "</div>"
      ],
      "text/plain": [
       "                                                 img1  \\\n",
       "0   C:\\Users\\ynany\\OneDrive\\Desktop\\Pictures and V...   \n",
       "1   C:\\Users\\ynany\\OneDrive\\Desktop\\Pictures and V...   \n",
       "2   C:\\Users\\ynany\\OneDrive\\Desktop\\Pictures and V...   \n",
       "3   C:\\Users\\ynany\\OneDrive\\Desktop\\Pictures and V...   \n",
       "4   C:\\Users\\ynany\\OneDrive\\Desktop\\Pictures and V...   \n",
       "5   C:\\Users\\ynany\\OneDrive\\Desktop\\Pictures and V...   \n",
       "6   C:\\Users\\ynany\\OneDrive\\Desktop\\Pictures and V...   \n",
       "7   C:\\Users\\ynany\\OneDrive\\Desktop\\Pictures and V...   \n",
       "8   C:\\Users\\ynany\\OneDrive\\Desktop\\Pictures and V...   \n",
       "9   C:\\Users\\ynany\\OneDrive\\Desktop\\Pictures and V...   \n",
       "10  C:\\Users\\ynany\\OneDrive\\Desktop\\Pictures and V...   \n",
       "\n",
       "                                                 img2  similarity  \n",
       "0   C:\\Users\\ynany\\OneDrive\\Desktop\\Pictures and V...    0.984280  \n",
       "1   C:\\Users\\ynany\\OneDrive\\Desktop\\Pictures and V...    0.986520  \n",
       "2   C:\\Users\\ynany\\OneDrive\\Desktop\\Pictures and V...    0.984405  \n",
       "3   C:\\Users\\ynany\\OneDrive\\Desktop\\Pictures and V...    0.987386  \n",
       "4   C:\\Users\\ynany\\OneDrive\\Desktop\\Pictures and V...    0.995920  \n",
       "5   C:\\Users\\ynany\\OneDrive\\Desktop\\Pictures and V...    0.981924  \n",
       "6   C:\\Users\\ynany\\OneDrive\\Desktop\\Pictures and V...    0.991665  \n",
       "7   C:\\Users\\ynany\\OneDrive\\Desktop\\Pictures and V...    0.984932  \n",
       "8   C:\\Users\\ynany\\OneDrive\\Desktop\\Pictures and V...    0.984574  \n",
       "9   C:\\Users\\ynany\\OneDrive\\Desktop\\Pictures and V...    0.982485  \n",
       "10  C:\\Users\\ynany\\OneDrive\\Desktop\\Pictures and V...    0.982399  "
      ]
     },
     "execution_count": 94,
     "metadata": {},
     "output_type": "execute_result"
    }
   ],
   "source": [
    "duplicate_df"
   ]
  },
  {
   "cell_type": "code",
   "execution_count": 95,
   "id": "1f416148",
   "metadata": {},
   "outputs": [],
   "source": [
    "def group_duplicates(duplicate_df):\n",
    "    parent = {}\n",
    "\n",
    "    def find(x):\n",
    "        if parent.get(x, x) != x:\n",
    "            parent[x] = find(parent[x])\n",
    "        return parent.get(x, x)\n",
    "\n",
    "    def union(x, y):\n",
    "        px, py = find(x), find(y)\n",
    "        if px != py:\n",
    "            parent[py] = px\n",
    "\n",
    "    # Create union-find structure\n",
    "    for _, row in duplicate_df.iterrows():\n",
    "        union(row[\"img1\"], row[\"img2\"])\n",
    "\n",
    "    # Group images by their root parent\n",
    "    groups = defaultdict(list)\n",
    "    for img in set(duplicate_df[\"img1\"]).union(duplicate_df[\"img2\"]):\n",
    "        root = find(img)\n",
    "        groups[root].append(img)\n",
    "\n",
    "    return list(groups.values())\n"
   ]
  },
  {
   "cell_type": "code",
   "execution_count": 96,
   "id": "910bf27c",
   "metadata": {},
   "outputs": [
    {
     "name": "stdout",
     "output_type": "stream",
     "text": [
      "Found 8 duplicate groups\n"
     ]
    }
   ],
   "source": [
    "duplicate_groups = group_duplicates(duplicate_df)\n",
    "print(f\"Found {len(duplicate_groups)} duplicate groups\")"
   ]
  },
  {
   "cell_type": "code",
   "execution_count": 97,
   "id": "353819c3",
   "metadata": {},
   "outputs": [
    {
     "name": "stdout",
     "output_type": "stream",
     "text": [
      "Group 1: 2 images\n",
      "Group 2: 2 images\n",
      "Group 3: 2 images\n",
      "Group 4: 2 images\n",
      "Group 5: 3 images\n",
      "Group 6: 2 images\n",
      "Group 7: 3 images\n",
      "Group 8: 2 images\n"
     ]
    }
   ],
   "source": [
    "# Show group sizes\n",
    "total=0\n",
    "for i, group in enumerate(duplicate_groups):\n",
    "    total+=len(group)\n",
    "    print(f\"Group {i+1}: {len(group)} images\")"
   ]
  },
  {
   "cell_type": "code",
   "execution_count": 98,
   "id": "2d80c192",
   "metadata": {},
   "outputs": [
    {
     "data": {
      "text/plain": [
       "18"
      ]
     },
     "execution_count": 98,
     "metadata": {},
     "output_type": "execute_result"
    }
   ],
   "source": [
    "total"
   ]
  },
  {
   "cell_type": "code",
   "execution_count": 99,
   "id": "008b86d2",
   "metadata": {},
   "outputs": [],
   "source": [
    "def show_image_group(image_paths, columns=5, figsize=(15, 5)):\n",
    "    n = len(image_paths)\n",
    "    rows = (n + columns - 1) // columns\n",
    "    plt.figure(figsize=figsize)\n",
    "    \n",
    "    for i, path in enumerate(image_paths):\n",
    "        img = Image.open(path)\n",
    "        plt.subplot(rows, columns, i + 1)\n",
    "        plt.imshow(img)\n",
    "        plt.title(os.path.basename(path), fontsize=8)\n",
    "        plt.axis(\"off\")\n",
    "    \n",
    "    plt.tight_layout()\n",
    "    plt.show()"
   ]
  },
  {
   "cell_type": "code",
   "execution_count": 100,
   "id": "4e9479c7",
   "metadata": {
    "collapsed": true
   },
   "outputs": [
    {
     "ename": "FileNotFoundError",
     "evalue": "[Errno 2] No such file or directory: 'C:\\\\Users\\\\ynany\\\\OneDrive\\\\Desktop\\\\Pictures and Videos\\\\Pictures\\\\Camera Roll\\\\2020\\\\05\\\\20200530_151236965_iOS.jpg'",
     "output_type": "error",
     "traceback": [
      "\u001b[1;31m---------------------------------------------------------------------------\u001b[0m",
      "\u001b[1;31mFileNotFoundError\u001b[0m                         Traceback (most recent call last)",
      "Cell \u001b[1;32mIn[100], line 2\u001b[0m\n\u001b[0;32m      1\u001b[0m \u001b[38;5;28;01mfor\u001b[39;00m g \u001b[38;5;129;01min\u001b[39;00m duplicate_groups:\n\u001b[1;32m----> 2\u001b[0m     \u001b[43mshow_image_group\u001b[49m\u001b[43m(\u001b[49m\u001b[43mg\u001b[49m\u001b[43m)\u001b[49m\n",
      "Cell \u001b[1;32mIn[99], line 7\u001b[0m, in \u001b[0;36mshow_image_group\u001b[1;34m(image_paths, columns, figsize)\u001b[0m\n\u001b[0;32m      4\u001b[0m plt\u001b[38;5;241m.\u001b[39mfigure(figsize\u001b[38;5;241m=\u001b[39mfigsize)\n\u001b[0;32m      6\u001b[0m \u001b[38;5;28;01mfor\u001b[39;00m i, path \u001b[38;5;129;01min\u001b[39;00m \u001b[38;5;28menumerate\u001b[39m(image_paths):\n\u001b[1;32m----> 7\u001b[0m     img \u001b[38;5;241m=\u001b[39m \u001b[43mImage\u001b[49m\u001b[38;5;241;43m.\u001b[39;49m\u001b[43mopen\u001b[49m\u001b[43m(\u001b[49m\u001b[43mpath\u001b[49m\u001b[43m)\u001b[49m\n\u001b[0;32m      8\u001b[0m     plt\u001b[38;5;241m.\u001b[39msubplot(rows, columns, i \u001b[38;5;241m+\u001b[39m \u001b[38;5;241m1\u001b[39m)\n\u001b[0;32m      9\u001b[0m     plt\u001b[38;5;241m.\u001b[39mimshow(img)\n",
      "File \u001b[1;32mc:\\users\\ynany\\appdata\\local\\programs\\python\\python38\\lib\\site-packages\\PIL\\Image.py:2891\u001b[0m, in \u001b[0;36mopen\u001b[1;34m(fp, mode, formats)\u001b[0m\n\u001b[0;32m   2888\u001b[0m     filename \u001b[38;5;241m=\u001b[39m fp\n\u001b[0;32m   2890\u001b[0m \u001b[38;5;28;01mif\u001b[39;00m filename:\n\u001b[1;32m-> 2891\u001b[0m     fp \u001b[38;5;241m=\u001b[39m \u001b[43mbuiltins\u001b[49m\u001b[38;5;241;43m.\u001b[39;49m\u001b[43mopen\u001b[49m\u001b[43m(\u001b[49m\u001b[43mfilename\u001b[49m\u001b[43m,\u001b[49m\u001b[43m \u001b[49m\u001b[38;5;124;43m\"\u001b[39;49m\u001b[38;5;124;43mrb\u001b[39;49m\u001b[38;5;124;43m\"\u001b[39;49m\u001b[43m)\u001b[49m\n\u001b[0;32m   2892\u001b[0m     exclusive_fp \u001b[38;5;241m=\u001b[39m \u001b[38;5;28;01mTrue\u001b[39;00m\n\u001b[0;32m   2894\u001b[0m \u001b[38;5;28;01mtry\u001b[39;00m:\n",
      "\u001b[1;31mFileNotFoundError\u001b[0m: [Errno 2] No such file or directory: 'C:\\\\Users\\\\ynany\\\\OneDrive\\\\Desktop\\\\Pictures and Videos\\\\Pictures\\\\Camera Roll\\\\2020\\\\05\\\\20200530_151236965_iOS.jpg'"
     ]
    },
    {
     "data": {
      "image/png": "[encoded data removed]",
      "text/plain": [
       "<Figure size 1500x500 with 1 Axes>"
      ]
     },
     "metadata": {},
     "output_type": "display_data"
    }
   ],
   "source": [
    "for g in duplicate_groups:\n",
    "    show_image_group(g)"
   ]
  },
  {
   "cell_type": "code",
   "execution_count": null,
   "id": "c75256bd",
   "metadata": {},
   "outputs": [],
   "source": []
  },
  {
   "cell_type": "markdown",
   "id": "b0dd2541",
   "metadata": {},
   "source": [
    "> - ### Move or Copy Duplicates"
   ]
  },
  {
   "cell_type": "code",
   "execution_count": 87,
   "id": "91e59941",
   "metadata": {},
   "outputs": [],
   "source": [
    "def move_or_copy_duplicates(duplicate_groups, action=\"copy\", output_dir=\"../data/sample_duplicates\"):\n",
    "    \n",
    "    assert action in [\"copy\", \"move\"], \"Action must be 'copy' or 'move'\"\n",
    "    output_dir = Path(output_dir)\n",
    "    output_dir.mkdir(parents=True, exist_ok=True)\n",
    "\n",
    "    moved_files = []\n",
    "\n",
    "    for group in duplicate_groups:\n",
    "        if len(group) < 2:\n",
    "            continue\n",
    "\n",
    "        keep = group[0]\n",
    "        to_move = group[1:]\n",
    "\n",
    "        for path in to_move:\n",
    "            src = Path(path)\n",
    "            filename = src.name\n",
    "            dst = output_dir / filename\n",
    "\n",
    "            # Avoids overwriting\n",
    "            i = 1\n",
    "            while dst.exists():\n",
    "                dst = output_dir / f\"{src.stem}_{i}{src.suffix}\"\n",
    "                i += 1\n",
    "\n",
    "            try:\n",
    "                if action == \"copy\":\n",
    "                    shutil.copy2(src, dst)\n",
    "                else:\n",
    "                    shutil.move(src, dst)\n",
    "\n",
    "                moved_files.append({\"original\": str(src), \"duplicate\": str(dst)})\n",
    "            except Exception as e:\n",
    "                print(f\"Failed to {action} {src} → {dst}: {e}\")\n",
    "\n",
    "    return moved_files"
   ]
  },
  {
   "cell_type": "code",
   "execution_count": 89,
   "id": "5a91f20d",
   "metadata": {},
   "outputs": [
    {
     "data": {
      "text/plain": [
       "10"
      ]
     },
     "execution_count": 89,
     "metadata": {},
     "output_type": "execute_result"
    }
   ],
   "source": [
    "log = move_or_copy_duplicates(duplicate_groups, action=\"move\", output_dir=\"../data/sample_duplicates\")\n",
    "len(log)"
   ]
  },
  {
   "cell_type": "code",
   "execution_count": null,
   "id": "c0f174ea",
   "metadata": {},
   "outputs": [],
   "source": []
  },
  {
   "cell_type": "code",
   "execution_count": null,
   "id": "98dd8ec9",
   "metadata": {},
   "outputs": [],
   "source": []
  },
  {
   "cell_type": "code",
   "execution_count": null,
   "id": "379b8d13",
   "metadata": {},
   "outputs": [],
   "source": []
  },
  {
   "cell_type": "code",
   "execution_count": null,
   "id": "3e146174",
   "metadata": {},
   "outputs": [],
   "source": []
  },
  {
   "cell_type": "code",
   "execution_count": null,
   "id": "d710225f",
   "metadata": {},
   "outputs": [],
   "source": []
  },
  {
   "cell_type": "code",
   "execution_count": null,
   "id": "189cdfe3",
   "metadata": {},
   "outputs": [],
   "source": []
  },
  {
   "cell_type": "code",
   "execution_count": null,
   "id": "90695113",
   "metadata": {},
   "outputs": [],
   "source": []
  }
 ],
 "metadata": {
  "kernelspec": {
   "display_name": "Python 3 (ipykernel)",
   "language": "python",
   "name": "python3"
  },
  "language_info": {
   "codemirror_mode": {
    "name": "ipython",
    "version": 3
   },
   "file_extension": ".py",
   "mimetype": "text/x-python",
   "name": "python",
   "nbconvert_exporter": "python",
   "pygments_lexer": "ipython3",
   "version": "3.8.0"
  }
 },
 "nbformat": 4,
 "nbformat_minor": 5
}
